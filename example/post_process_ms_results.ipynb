{
 "cells": [
  {
   "cell_type": "code",
   "id": "initial_id",
   "metadata": {
    "collapsed": true,
    "ExecuteTime": {
     "end_time": "2025-10-23T06:44:15.214820Z",
     "start_time": "2025-10-23T06:44:14.199422Z"
    }
   },
   "source": [
    "from pathlib import Path\n",
    "import re, json\n",
    "import numpy as np\n",
    "import pandas as pd\n",
    "import matplotlib.pyplot as plt"
   ],
   "outputs": [],
   "execution_count": 1
  },
  {
   "metadata": {
    "ExecuteTime": {
     "end_time": "2025-10-23T06:44:15.220543Z",
     "start_time": "2025-10-23T06:44:15.216622Z"
    }
   },
   "cell_type": "code",
   "source": [
    "MULTI_PREFIX = Path(\"example/output/schism_base.multi_gru2_SINGLE_EXP_TEST_Trial1\")\n",
    "OUT_DIR = MULTI_PREFIX.parent / (MULTI_PREFIX.name + \"_postproc\")\n",
    "FIG_DIR = OUT_DIR / \"figs\"\n",
    "OUT_DIR.mkdir(parents=True, exist_ok=True)\n",
    "FIG_DIR.mkdir(parents=True, exist_ok=True)\n",
    "\n",
    "DT_COLS = [\"datetime\", \"case\"]      \n",
    "METRICS = (\"mae\", \"rmse\", \"nse\", \"pearson_r\")\n",
    "MAX_TS_CASES_TO_PLOT = 7\n",
    "PRINT_ROWS = 25"
   ],
   "id": "4de64786b7848f71",
   "outputs": [],
   "execution_count": 2
  },
  {
   "metadata": {
    "ExecuteTime": {
     "end_time": "2025-10-23T06:44:15.224866Z",
     "start_time": "2025-10-23T06:44:15.221510Z"
    }
   },
   "cell_type": "code",
   "source": [
    "pred_glob = sorted(MULTI_PREFIX.parent.glob(MULTI_PREFIX.name + \"_xvalid_*.csv\"))\n",
    "tag_re = re.compile(r\"_xvalid_(.+)\\.csv$\")\n",
    "TAGS = []\n",
    "PRED_PATHS = {}\n",
    "REF_PATHS  = {}\n",
    "\n",
    "for p in pred_glob:\n",
    "    m = tag_re.search(p.name)\n",
    "    \n",
    "    if not m:\n",
    "        continue\n",
    "        \n",
    "    tag = m.group(1)\n",
    "    TAGS.append(tag)\n",
    "    PRED_PATHS[tag] = p\n",
    "    REF_PATHS[tag] = MULTI_PREFIX.parent / f\"{MULTI_PREFIX.name}_xvalid_ref_out_{tag}_unscaled.csv\""
   ],
   "id": "bcd47aa1f8602259",
   "outputs": [],
   "execution_count": 3
  },
  {
   "metadata": {
    "ExecuteTime": {
     "end_time": "2025-10-23T06:44:15.229270Z",
     "start_time": "2025-10-23T06:44:15.225774Z"
    }
   },
   "cell_type": "code",
   "source": [
    "print(f\"Found {len(TAGS)} tags:\", TAGS)\n",
    "missing_ref = [t for t in TAGS if not REF_PATHS[t].exists()]\n",
    "if missing_ref:\n",
    "    print(\"WARNING: missing reference CSVs for tags:\", missing_ref)\n",
    "\n",
    "MASTER_SUMMARY = None\n",
    "cand = sorted(MULTI_PREFIX.parent.glob(\"gridsearch_*_master_results.csv\"))\n",
    "if cand:\n",
    "    MASTER_SUMMARY = cand[-1]\n",
    "    print(\"Master summary:\", MASTER_SUMMARY)\n",
    "else:\n",
    "    print(\"Master summary not found in\", MULTI_PREFIX.parent)"
   ],
   "id": "215f67d78fa2f303",
   "outputs": [
    {
     "name": "stdout",
     "output_type": "stream",
     "text": [
      "Found 0 tags: []\n",
      "Master summary not found in example/output\n"
     ]
    }
   ],
   "execution_count": 4
  },
  {
   "metadata": {},
   "cell_type": "markdown",
   "source": "##### DATA LOADING",
   "id": "efdd553da5ff6847"
  },
  {
   "metadata": {
    "ExecuteTime": {
     "end_time": "2025-10-23T06:44:37.251575Z",
     "start_time": "2025-10-23T06:44:36.695947Z"
    }
   },
   "cell_type": "code",
   "source": [
    "def load_ms_pair(prefix: Path, tag: str) -> pd.DataFrame:\n",
    "    \"\"\"Load ref+pred for one tag; return merged long df with _pred columns.\"\"\"\n",
    "    ref_csv  = REF_PATHS[tag]\n",
    "    pred_csv = PRED_PATHS[tag]\n",
    "    if not (ref_csv.exists() and pred_csv.exists()):\n",
    "        raise FileNotFoundError(f\"Missing files for tag={tag}\\n  {ref_csv}\\n  {pred_csv}\")\n",
    "\n",
    "    df_ref  = pd.read_csv(ref_csv,  parse_dates=[\"datetime\"])\n",
    "    df_pred = pd.read_csv(pred_csv, parse_dates=[\"datetime\"])\n",
    "    df = pd.merge(df_ref, df_pred, on=[\"datetime\", \"case\"], suffixes=(\"\", \"_pred\"))\n",
    "\n",
    "    try:\n",
    "        df[\"case\"] = df[\"case\"].astype(int)\n",
    "    except Exception:\n",
    "        pass\n",
    "    return df.sort_values([\"case\", \"datetime\"]).reset_index(drop=True)\n",
    "\n",
    "MERGED = {tag: load_ms_pair(MULTI_PREFIX, tag) for tag in TAGS}\n",
    "sample_cols = [c for c in MERGED[TAGS[0]].columns if c not in DT_COLS and not c.endswith(\"_pred\")]\n",
    "STATIONS = sample_cols\n",
    "print(f\"Detected {len(STATIONS)} stations.\")\n",
    "print(STATIONS[:PRINT_ROWS])"
   ],
   "id": "357d3c857959d6a4",
   "outputs": [
    {
     "ename": "IndexError",
     "evalue": "list index out of range",
     "output_type": "error",
     "traceback": [
      "\u001B[0;31m---------------------------------------------------------------------------\u001B[0m",
      "\u001B[0;31mIndexError\u001B[0m                                Traceback (most recent call last)",
      "Cell \u001B[0;32mIn[5], line 19\u001B[0m\n\u001B[1;32m     16\u001B[0m     \u001B[38;5;28;01mreturn\u001B[39;00m df\u001B[38;5;241m.\u001B[39msort_values([\u001B[38;5;124m\"\u001B[39m\u001B[38;5;124mcase\u001B[39m\u001B[38;5;124m\"\u001B[39m, \u001B[38;5;124m\"\u001B[39m\u001B[38;5;124mdatetime\u001B[39m\u001B[38;5;124m\"\u001B[39m])\u001B[38;5;241m.\u001B[39mreset_index(drop\u001B[38;5;241m=\u001B[39m\u001B[38;5;28;01mTrue\u001B[39;00m)\n\u001B[1;32m     18\u001B[0m MERGED \u001B[38;5;241m=\u001B[39m {tag: load_ms_pair(MULTI_PREFIX, tag) \u001B[38;5;28;01mfor\u001B[39;00m tag \u001B[38;5;129;01min\u001B[39;00m TAGS}\n\u001B[0;32m---> 19\u001B[0m sample_cols \u001B[38;5;241m=\u001B[39m [c \u001B[38;5;28;01mfor\u001B[39;00m c \u001B[38;5;129;01min\u001B[39;00m MERGED[\u001B[43mTAGS\u001B[49m\u001B[43m[\u001B[49m\u001B[38;5;241;43m0\u001B[39;49m\u001B[43m]\u001B[49m]\u001B[38;5;241m.\u001B[39mcolumns \u001B[38;5;28;01mif\u001B[39;00m c \u001B[38;5;129;01mnot\u001B[39;00m \u001B[38;5;129;01min\u001B[39;00m DT_COLS \u001B[38;5;129;01mand\u001B[39;00m \u001B[38;5;129;01mnot\u001B[39;00m c\u001B[38;5;241m.\u001B[39mendswith(\u001B[38;5;124m\"\u001B[39m\u001B[38;5;124m_pred\u001B[39m\u001B[38;5;124m\"\u001B[39m)]\n\u001B[1;32m     20\u001B[0m STATIONS \u001B[38;5;241m=\u001B[39m sample_cols\n\u001B[1;32m     21\u001B[0m \u001B[38;5;28mprint\u001B[39m(\u001B[38;5;124mf\u001B[39m\u001B[38;5;124m\"\u001B[39m\u001B[38;5;124mDetected \u001B[39m\u001B[38;5;132;01m{\u001B[39;00m\u001B[38;5;28mlen\u001B[39m(STATIONS)\u001B[38;5;132;01m}\u001B[39;00m\u001B[38;5;124m stations.\u001B[39m\u001B[38;5;124m\"\u001B[39m)\n",
      "\u001B[0;31mIndexError\u001B[0m: list index out of range"
     ]
    }
   ],
   "execution_count": 5
  },
  {
   "metadata": {
    "ExecuteTime": {
     "end_time": "2025-10-23T06:44:49.872094Z",
     "start_time": "2025-10-23T06:44:49.817666Z"
    }
   },
   "cell_type": "code",
   "source": [
    "def _metrics_vector(y_true: np.ndarray, y_pred: np.ndarray) -> dict:\n",
    "    \"\"\"Return MAE/RMSE/NSE/Pearson r for vectors (ignores NaNs).\"\"\"\n",
    "    mask = (~np.isnan(y_true)) & (~np.isnan(y_pred))\n",
    "    if mask.sum() < 2:\n",
    "        return {\"mae\": np.nan, \"rmse\": np.nan, \"nse\": np.nan, \"pearson_r\": np.nan}\n",
    "    yt, yp = y_true[mask], y_pred[mask]\n",
    "    mae  = float(np.mean(np.abs(yt - yp)))\n",
    "    rmse = float(np.sqrt(np.mean((yt - yp) ** 2)))\n",
    "    denom = float(np.sum((yt - np.mean(yt)) ** 2))\n",
    "    nse  = float(1.0 - np.sum((yt - yp) ** 2) / denom) if denom > 0 else np.nan\n",
    "    r    = float(np.corrcoef(yt, yp)[0, 1]) if len(yt) > 1 else np.nan\n",
    "    return {\"mae\": mae, \"rmse\": rmse, \"nse\": nse, \"pearson_r\": r}\n",
    "\n",
    "def compute_station_metrics(df: pd.DataFrame, station: str) -> dict:\n",
    "    \"\"\"Compute metrics for a single station over ALL cases and times.\"\"\"\n",
    "    return _metrics_vector(df[station].to_numpy(), df[f\"{station}_pred\"].to_numpy())\n",
    "\n",
    "def compute_metrics_table(merged_by_tag: dict, stations: list) -> pd.DataFrame:\n",
    "    \"\"\"Return tidy table: [tag, station, mae, rmse, nse, pearson_r, n_points].\"\"\"\n",
    "    rows = []\n",
    "    for tag, df in merged_by_tag.items():\n",
    "        for st in stations:\n",
    "            if st not in df.columns or f\"{st}_pred\" not in df.columns:\n",
    "                continue\n",
    "            m = compute_station_metrics(df, st)\n",
    "            rows.append({\n",
    "                \"tag\": tag,\n",
    "                \"station\": st,\n",
    "                **{k: round(v, 6) if pd.notnull(v) else np.nan for k, v in m.items()},\n",
    "                \"n_points\": int((~df[st].isna() & ~df[f\"{st}_pred\"].isna()).sum())})\n",
    "    out = pd.DataFrame(rows)\n",
    "    return out.sort_values([\"tag\", \"station\"]).reset_index(drop=True)\n",
    "\n",
    "METRICS_DF = compute_metrics_table(MERGED, STATIONS)\n",
    "display(METRICS_DF.head(PRINT_ROWS))\n",
    "METRICS_DF.to_csv(OUT_DIR / \"metrics_by_station_tag.csv\", index=False)\n",
    "print(\"Saved:\", OUT_DIR / \"metrics_by_station_tag.csv\")"
   ],
   "id": "26b37d1d0ea20d6c",
   "outputs": [
    {
     "ename": "NameError",
     "evalue": "name 'STATIONS' is not defined",
     "output_type": "error",
     "traceback": [
      "\u001B[0;31m---------------------------------------------------------------------------\u001B[0m",
      "\u001B[0;31mNameError\u001B[0m                                 Traceback (most recent call last)",
      "Cell \u001B[0;32mIn[6], line 35\u001B[0m\n\u001B[1;32m     32\u001B[0m     out \u001B[38;5;241m=\u001B[39m pd\u001B[38;5;241m.\u001B[39mDataFrame(rows)\n\u001B[1;32m     33\u001B[0m     \u001B[38;5;28;01mreturn\u001B[39;00m out\u001B[38;5;241m.\u001B[39msort_values([\u001B[38;5;124m\"\u001B[39m\u001B[38;5;124mtag\u001B[39m\u001B[38;5;124m\"\u001B[39m, \u001B[38;5;124m\"\u001B[39m\u001B[38;5;124mstation\u001B[39m\u001B[38;5;124m\"\u001B[39m])\u001B[38;5;241m.\u001B[39mreset_index(drop\u001B[38;5;241m=\u001B[39m\u001B[38;5;28;01mTrue\u001B[39;00m)\n\u001B[0;32m---> 35\u001B[0m METRICS_DF \u001B[38;5;241m=\u001B[39m compute_metrics_table(MERGED, \u001B[43mSTATIONS\u001B[49m)\n\u001B[1;32m     36\u001B[0m display(METRICS_DF\u001B[38;5;241m.\u001B[39mhead(PRINT_ROWS))\n\u001B[1;32m     37\u001B[0m METRICS_DF\u001B[38;5;241m.\u001B[39mto_csv(OUT_DIR \u001B[38;5;241m/\u001B[39m \u001B[38;5;124m\"\u001B[39m\u001B[38;5;124mmetrics_by_station_tag.csv\u001B[39m\u001B[38;5;124m\"\u001B[39m, index\u001B[38;5;241m=\u001B[39m\u001B[38;5;28;01mFalse\u001B[39;00m)\n",
      "\u001B[0;31mNameError\u001B[0m: name 'STATIONS' is not defined"
     ]
    }
   ],
   "execution_count": 6
  },
  {
   "metadata": {
    "ExecuteTime": {
     "end_time": "2025-10-23T06:45:28.598972Z",
     "start_time": "2025-10-23T06:45:28.562305Z"
    }
   },
   "cell_type": "code",
   "source": [
    "MEAN_BY_TAG = (METRICS_DF.groupby(\"tag\")[list(METRICS)].mean(numeric_only=True).sort_values(\"nse\", ascending=False).reset_index())\n",
    "display(MEAN_BY_TAG)\n",
    "NSE_PIVOT = METRICS_DF.pivot(index=\"station\", columns=\"tag\", values=\"nse\")\n",
    "MAE_PIVOT = METRICS_DF.pivot(index=\"station\", columns=\"tag\", values=\"mae\")\n",
    "\n",
    "if \"base\" in NSE_PIVOT.columns:\n",
    "    NSE_DELTA = NSE_PIVOT.apply(lambda col: col - NSE_PIVOT[\"base\"])\n",
    "    NSE_DELTA = NSE_DELTA.drop(columns=[\"base\"], errors=\"ignore\")\n",
    "    display(NSE_DELTA.sort_values(by=NSE_DELTA.columns[0] if len(NSE_DELTA.columns) else \"base\",\n",
    "                                  ascending=False).head(PRINT_ROWS))\n",
    "    NSE_PIVOT.to_csv(OUT_DIR / \"nse_pivot_station_by_tag.csv\")\n",
    "    NSE_DELTA.to_csv(OUT_DIR / \"nse_delta_vs_base.csv\")\n",
    "    print(\"Saved pivot & delta tables in\", OUT_DIR)"
   ],
   "id": "a3f2ef974ddbe146",
   "outputs": [
    {
     "ename": "NameError",
     "evalue": "name 'METRICS_DF' is not defined",
     "output_type": "error",
     "traceback": [
      "\u001B[0;31m---------------------------------------------------------------------------\u001B[0m",
      "\u001B[0;31mNameError\u001B[0m                                 Traceback (most recent call last)",
      "Cell \u001B[0;32mIn[7], line 1\u001B[0m\n\u001B[0;32m----> 1\u001B[0m MEAN_BY_TAG \u001B[38;5;241m=\u001B[39m (\u001B[43mMETRICS_DF\u001B[49m\u001B[38;5;241m.\u001B[39mgroupby(\u001B[38;5;124m\"\u001B[39m\u001B[38;5;124mtag\u001B[39m\u001B[38;5;124m\"\u001B[39m)[\u001B[38;5;28mlist\u001B[39m(METRICS)]\u001B[38;5;241m.\u001B[39mmean(numeric_only\u001B[38;5;241m=\u001B[39m\u001B[38;5;28;01mTrue\u001B[39;00m)\u001B[38;5;241m.\u001B[39msort_values(\u001B[38;5;124m\"\u001B[39m\u001B[38;5;124mnse\u001B[39m\u001B[38;5;124m\"\u001B[39m, ascending\u001B[38;5;241m=\u001B[39m\u001B[38;5;28;01mFalse\u001B[39;00m)\u001B[38;5;241m.\u001B[39mreset_index())\n\u001B[1;32m      2\u001B[0m display(MEAN_BY_TAG)\n\u001B[1;32m      3\u001B[0m NSE_PIVOT \u001B[38;5;241m=\u001B[39m METRICS_DF\u001B[38;5;241m.\u001B[39mpivot(index\u001B[38;5;241m=\u001B[39m\u001B[38;5;124m\"\u001B[39m\u001B[38;5;124mstation\u001B[39m\u001B[38;5;124m\"\u001B[39m, columns\u001B[38;5;241m=\u001B[39m\u001B[38;5;124m\"\u001B[39m\u001B[38;5;124mtag\u001B[39m\u001B[38;5;124m\"\u001B[39m, values\u001B[38;5;241m=\u001B[39m\u001B[38;5;124m\"\u001B[39m\u001B[38;5;124mnse\u001B[39m\u001B[38;5;124m\"\u001B[39m)\n",
      "\u001B[0;31mNameError\u001B[0m: name 'METRICS_DF' is not defined"
     ]
    }
   ],
   "execution_count": 7
  },
  {
   "metadata": {
    "ExecuteTime": {
     "end_time": "2025-10-23T06:45:28.874597Z",
     "start_time": "2025-10-23T06:45:28.868089Z"
    }
   },
   "cell_type": "code",
   "source": [
    "\n",
    "if \"MASTER_SUMMARY\" in globals() and MASTER_SUMMARY:\n",
    "    ms = pd.read_csv(MASTER_SUMMARY)\n",
    "    display(ms.sort_values(ms.columns[ms.columns.str.contains(\"nse\", case=False)].tolist(), ascending=False).head(10))"
   ],
   "id": "879517aa4b2a5228",
   "outputs": [],
   "execution_count": 8
  },
  {
   "metadata": {},
   "cell_type": "markdown",
   "source": "##### PLOTTING",
   "id": "c323c483024af2e"
  },
  {
   "metadata": {
    "ExecuteTime": {
     "end_time": "2025-10-23T06:45:46.510069Z",
     "start_time": "2025-10-23T06:45:46.499209Z"
    }
   },
   "cell_type": "code",
   "source": [
    "def plot_timeseries(tag: str, station: str, case: int = 1, save: bool = False):\n",
    "    df = MERGED[tag]\n",
    "    sub = df[df[\"case\"] == case]\n",
    "    if sub.empty:\n",
    "        print(f\"No rows for tag={tag}, case={case}\")\n",
    "        return\n",
    "    if station not in sub.columns or f\"{station}_pred\" not in sub.columns:\n",
    "        print(f\"Station {station} not found in tag={tag}\")\n",
    "        return\n",
    "    plt.figure(figsize=(9, 3.5))\n",
    "    plt.plot(sub[\"datetime\"], sub[station], label=\"Ref\")\n",
    "    plt.plot(sub[\"datetime\"], sub[f\"{station}_pred\"], label=\"ANN\")\n",
    "    plt.title(f\"Time series — tag={tag}, station={station}, case={case}\")\n",
    "    plt.xlabel(\"datetime\"); plt.ylabel(station); plt.legend(); plt.tight_layout()\n",
    "    if save:\n",
    "        fname = FIG_DIR / f\"ts_{tag}_{station}_case{case}.png\"\n",
    "        plt.savefig(fname, dpi=150)\n",
    "        print(\"Saved:\", fname)\n",
    "    plt.show()\n",
    "\n",
    "def plot_parity(tag: str, station: str, sample: int = None, save: bool = False):\n",
    "    df = MERGED[tag]\n",
    "    if station not in df.columns or f\"{station}_pred\" not in df.columns:\n",
    "        print(f\"Station {station} not found in tag={tag}\")\n",
    "        return\n",
    "    x = df[station].to_numpy()\n",
    "    y = df[f\"{station}_pred\"].to_numpy()\n",
    "    mask = (~np.isnan(x)) & (~np.isnan(y))\n",
    "    x, y = x[mask], y[mask]\n",
    "    if sample and sample < len(x):\n",
    "        idx = np.random.default_rng(42).choice(len(x), sample, replace=False)\n",
    "        x, y = x[idx], y[idx]\n",
    "    lim = [np.nanmin([x.min(), y.min()]), np.nanmax([x.max(), y.max()])]\n",
    "    plt.figure(figsize=(4.8, 4.8))\n",
    "    plt.scatter(x, y, s=8, alpha=0.35)\n",
    "    plt.plot(lim, lim)  # 1:1\n",
    "    plt.title(f\"Parity — tag={tag}, station={station}\")\n",
    "    plt.xlabel(\"Reference\"); plt.ylabel(\"Prediction\"); plt.tight_layout()\n",
    "    if save:\n",
    "        fname = FIG_DIR / f\"parity_{tag}_{station}.png\"\n",
    "        plt.savefig(fname, dpi=150)\n",
    "        print(\"Saved:\", fname)\n",
    "    plt.show()"
   ],
   "id": "cfaf10aada0b00b",
   "outputs": [],
   "execution_count": 9
  },
  {
   "metadata": {
    "ExecuteTime": {
     "end_time": "2025-10-23T06:46:14.356105Z",
     "start_time": "2025-10-23T06:46:14.341068Z"
    }
   },
   "cell_type": "code",
   "source": [
    "def plot_metric_bar(metric: str = \"nse\", top_k: int = 20, scenario: str = \"base\", save: bool = False):\n",
    "    \"\"\"Top-K stations by a given metric for a chosen scenario.\"\"\"\n",
    "    assert metric in METRICS, f\"metric must be one of {METRICS}\"\n",
    "    sub = METRICS_DF[METRICS_DF[\"tag\"] == scenario].sort_values(metric, ascending=False).head(top_k)\n",
    "    plt.figure(figsize=(10, 0.35 * len(sub) + 1.5))\n",
    "    plt.barh(sub[\"station\"][::-1], sub[metric][::-1])\n",
    "    plt.title(f\"Top {top_k} stations by {metric.upper()} — {scenario}\")\n",
    "    plt.xlabel(metric.upper()); plt.tight_layout()\n",
    "    if save:\n",
    "        fname = FIG_DIR / f\"bar_{metric}_{scenario}_top{top_k}.png\"\n",
    "        plt.savefig(fname, dpi=150); print(\"Saved:\", fname)\n",
    "    plt.show()\n",
    "\n",
    "def plot_parallel_lines(metric: str = \"nse\", stations: list = None, scenarios: list = None, sort_by: str = \"base\", top_k: int = 25, save: bool = False):\n",
    "\n",
    "    assert metric in METRICS, f\"metric must be one of {METRICS}\"\n",
    "    pivot = METRICS_DF.pivot(index=\"station\", columns=\"tag\", values=metric)\n",
    "\n",
    "    if scenarios is None:\n",
    "        cols = list(pivot.columns)\n",
    "        if \"base\" in cols:\n",
    "            cols = [\"base\"] + [c for c in cols if c != \"base\"]\n",
    "        scenarios = cols\n",
    "\n",
    "    if stations is None:\n",
    "        rank_col = sort_by if sort_by in pivot.columns else scenarios[0]\n",
    "        stations = pivot[rank_col].sort_values(ascending=False).head(top_k).index.tolist()\n",
    "    x = np.arange(len(scenarios))\n",
    "    plt.figure(figsize=(10, 0.35 * len(stations) + 1.5))\n",
    "    \n",
    "    for st in stations:\n",
    "        y = pivot.loc[st, scenarios].to_numpy(dtype=float)\n",
    "        plt.plot(x, y, alpha=0.6, linewidth=1.5)\n",
    "    plt.xticks(x, scenarios)\n",
    "    plt.title(f\"Parallel {metric.upper()} across scenarios (top {len(stations)} by {sort_by})\")\n",
    "    plt.ylabel(metric.upper()); plt.grid(axis=\"y\", alpha=0.2); plt.tight_layout()\n",
    "    if save:\n",
    "        fname = FIG_DIR / f\"parallel_{metric}_top{len(stations)}_sortby_{sort_by}.png\"\n",
    "        plt.savefig(fname, dpi=150); print(\"Saved:\", fname)\n",
    "    plt.show()"
   ],
   "id": "5c405866c743e9fa",
   "outputs": [],
   "execution_count": 10
  },
  {
   "metadata": {
    "ExecuteTime": {
     "end_time": "2025-10-23T06:47:07.620761Z",
     "start_time": "2025-10-23T06:47:07.549497Z"
    }
   },
   "cell_type": "code",
   "source": [
    "plot_metric_bar(metric=\"nse\", top_k=20, scenario=\"base\", save=True)\n",
    "\n",
    "if len(TAGS) > 1:\n",
    "    plot_metric_bar(metric=\"nse\", top_k=20, scenario=TAGS[1], save=True)"
   ],
   "id": "f3c904ac0affe1f4",
   "outputs": [
    {
     "ename": "NameError",
     "evalue": "name 'METRICS_DF' is not defined",
     "output_type": "error",
     "traceback": [
      "\u001B[0;31m---------------------------------------------------------------------------\u001B[0m",
      "\u001B[0;31mNameError\u001B[0m                                 Traceback (most recent call last)",
      "Cell \u001B[0;32mIn[11], line 1\u001B[0m\n\u001B[0;32m----> 1\u001B[0m \u001B[43mplot_metric_bar\u001B[49m\u001B[43m(\u001B[49m\u001B[43mmetric\u001B[49m\u001B[38;5;241;43m=\u001B[39;49m\u001B[38;5;124;43m\"\u001B[39;49m\u001B[38;5;124;43mnse\u001B[39;49m\u001B[38;5;124;43m\"\u001B[39;49m\u001B[43m,\u001B[49m\u001B[43m \u001B[49m\u001B[43mtop_k\u001B[49m\u001B[38;5;241;43m=\u001B[39;49m\u001B[38;5;241;43m20\u001B[39;49m\u001B[43m,\u001B[49m\u001B[43m \u001B[49m\u001B[43mscenario\u001B[49m\u001B[38;5;241;43m=\u001B[39;49m\u001B[38;5;124;43m\"\u001B[39;49m\u001B[38;5;124;43mbase\u001B[39;49m\u001B[38;5;124;43m\"\u001B[39;49m\u001B[43m,\u001B[49m\u001B[43m \u001B[49m\u001B[43msave\u001B[49m\u001B[38;5;241;43m=\u001B[39;49m\u001B[38;5;28;43;01mTrue\u001B[39;49;00m\u001B[43m)\u001B[49m\n\u001B[1;32m      3\u001B[0m \u001B[38;5;28;01mif\u001B[39;00m \u001B[38;5;28mlen\u001B[39m(TAGS) \u001B[38;5;241m>\u001B[39m \u001B[38;5;241m1\u001B[39m:\n\u001B[1;32m      4\u001B[0m     plot_metric_bar(metric\u001B[38;5;241m=\u001B[39m\u001B[38;5;124m\"\u001B[39m\u001B[38;5;124mnse\u001B[39m\u001B[38;5;124m\"\u001B[39m, top_k\u001B[38;5;241m=\u001B[39m\u001B[38;5;241m20\u001B[39m, scenario\u001B[38;5;241m=\u001B[39mTAGS[\u001B[38;5;241m1\u001B[39m], save\u001B[38;5;241m=\u001B[39m\u001B[38;5;28;01mTrue\u001B[39;00m)\n",
      "Cell \u001B[0;32mIn[10], line 4\u001B[0m, in \u001B[0;36mplot_metric_bar\u001B[0;34m(metric, top_k, scenario, save)\u001B[0m\n\u001B[1;32m      2\u001B[0m \u001B[38;5;250m\u001B[39m\u001B[38;5;124;03m\"\"\"Top-K stations by a given metric for a chosen scenario.\"\"\"\u001B[39;00m\n\u001B[1;32m      3\u001B[0m \u001B[38;5;28;01massert\u001B[39;00m metric \u001B[38;5;129;01min\u001B[39;00m METRICS, \u001B[38;5;124mf\u001B[39m\u001B[38;5;124m\"\u001B[39m\u001B[38;5;124mmetric must be one of \u001B[39m\u001B[38;5;132;01m{\u001B[39;00mMETRICS\u001B[38;5;132;01m}\u001B[39;00m\u001B[38;5;124m\"\u001B[39m\n\u001B[0;32m----> 4\u001B[0m sub \u001B[38;5;241m=\u001B[39m \u001B[43mMETRICS_DF\u001B[49m[METRICS_DF[\u001B[38;5;124m\"\u001B[39m\u001B[38;5;124mtag\u001B[39m\u001B[38;5;124m\"\u001B[39m] \u001B[38;5;241m==\u001B[39m scenario]\u001B[38;5;241m.\u001B[39msort_values(metric, ascending\u001B[38;5;241m=\u001B[39m\u001B[38;5;28;01mFalse\u001B[39;00m)\u001B[38;5;241m.\u001B[39mhead(top_k)\n\u001B[1;32m      5\u001B[0m plt\u001B[38;5;241m.\u001B[39mfigure(figsize\u001B[38;5;241m=\u001B[39m(\u001B[38;5;241m10\u001B[39m, \u001B[38;5;241m0.35\u001B[39m \u001B[38;5;241m*\u001B[39m \u001B[38;5;28mlen\u001B[39m(sub) \u001B[38;5;241m+\u001B[39m \u001B[38;5;241m1.5\u001B[39m))\n\u001B[1;32m      6\u001B[0m plt\u001B[38;5;241m.\u001B[39mbarh(sub[\u001B[38;5;124m\"\u001B[39m\u001B[38;5;124mstation\u001B[39m\u001B[38;5;124m\"\u001B[39m][::\u001B[38;5;241m-\u001B[39m\u001B[38;5;241m1\u001B[39m], sub[metric][::\u001B[38;5;241m-\u001B[39m\u001B[38;5;241m1\u001B[39m])\n",
      "\u001B[0;31mNameError\u001B[0m: name 'METRICS_DF' is not defined"
     ]
    }
   ],
   "execution_count": 11
  },
  {
   "metadata": {
    "ExecuteTime": {
     "end_time": "2025-10-23T06:47:07.948873Z",
     "start_time": "2025-10-23T06:47:07.910521Z"
    }
   },
   "cell_type": "code",
   "source": "plot_parallel_lines(metric=\"nse\", top_k=25, sort_by=\"base\", save=True)",
   "id": "228787d13b04cd99",
   "outputs": [
    {
     "ename": "NameError",
     "evalue": "name 'METRICS_DF' is not defined",
     "output_type": "error",
     "traceback": [
      "\u001B[0;31m---------------------------------------------------------------------------\u001B[0m",
      "\u001B[0;31mNameError\u001B[0m                                 Traceback (most recent call last)",
      "Cell \u001B[0;32mIn[12], line 1\u001B[0m\n\u001B[0;32m----> 1\u001B[0m \u001B[43mplot_parallel_lines\u001B[49m\u001B[43m(\u001B[49m\u001B[43mmetric\u001B[49m\u001B[38;5;241;43m=\u001B[39;49m\u001B[38;5;124;43m\"\u001B[39;49m\u001B[38;5;124;43mnse\u001B[39;49m\u001B[38;5;124;43m\"\u001B[39;49m\u001B[43m,\u001B[49m\u001B[43m \u001B[49m\u001B[43mtop_k\u001B[49m\u001B[38;5;241;43m=\u001B[39;49m\u001B[38;5;241;43m25\u001B[39;49m\u001B[43m,\u001B[49m\u001B[43m \u001B[49m\u001B[43msort_by\u001B[49m\u001B[38;5;241;43m=\u001B[39;49m\u001B[38;5;124;43m\"\u001B[39;49m\u001B[38;5;124;43mbase\u001B[39;49m\u001B[38;5;124;43m\"\u001B[39;49m\u001B[43m,\u001B[49m\u001B[43m \u001B[49m\u001B[43msave\u001B[49m\u001B[38;5;241;43m=\u001B[39;49m\u001B[38;5;28;43;01mTrue\u001B[39;49;00m\u001B[43m)\u001B[49m\n",
      "Cell \u001B[0;32mIn[10], line 17\u001B[0m, in \u001B[0;36mplot_parallel_lines\u001B[0;34m(metric, stations, scenarios, sort_by, top_k, save)\u001B[0m\n\u001B[1;32m     14\u001B[0m \u001B[38;5;28;01mdef\u001B[39;00m \u001B[38;5;21mplot_parallel_lines\u001B[39m(metric: \u001B[38;5;28mstr\u001B[39m \u001B[38;5;241m=\u001B[39m \u001B[38;5;124m\"\u001B[39m\u001B[38;5;124mnse\u001B[39m\u001B[38;5;124m\"\u001B[39m, stations: \u001B[38;5;28mlist\u001B[39m \u001B[38;5;241m=\u001B[39m \u001B[38;5;28;01mNone\u001B[39;00m, scenarios: \u001B[38;5;28mlist\u001B[39m \u001B[38;5;241m=\u001B[39m \u001B[38;5;28;01mNone\u001B[39;00m, sort_by: \u001B[38;5;28mstr\u001B[39m \u001B[38;5;241m=\u001B[39m \u001B[38;5;124m\"\u001B[39m\u001B[38;5;124mbase\u001B[39m\u001B[38;5;124m\"\u001B[39m, top_k: \u001B[38;5;28mint\u001B[39m \u001B[38;5;241m=\u001B[39m \u001B[38;5;241m25\u001B[39m, save: \u001B[38;5;28mbool\u001B[39m \u001B[38;5;241m=\u001B[39m \u001B[38;5;28;01mFalse\u001B[39;00m):\n\u001B[1;32m     16\u001B[0m     \u001B[38;5;28;01massert\u001B[39;00m metric \u001B[38;5;129;01min\u001B[39;00m METRICS, \u001B[38;5;124mf\u001B[39m\u001B[38;5;124m\"\u001B[39m\u001B[38;5;124mmetric must be one of \u001B[39m\u001B[38;5;132;01m{\u001B[39;00mMETRICS\u001B[38;5;132;01m}\u001B[39;00m\u001B[38;5;124m\"\u001B[39m\n\u001B[0;32m---> 17\u001B[0m     pivot \u001B[38;5;241m=\u001B[39m \u001B[43mMETRICS_DF\u001B[49m\u001B[38;5;241m.\u001B[39mpivot(index\u001B[38;5;241m=\u001B[39m\u001B[38;5;124m\"\u001B[39m\u001B[38;5;124mstation\u001B[39m\u001B[38;5;124m\"\u001B[39m, columns\u001B[38;5;241m=\u001B[39m\u001B[38;5;124m\"\u001B[39m\u001B[38;5;124mtag\u001B[39m\u001B[38;5;124m\"\u001B[39m, values\u001B[38;5;241m=\u001B[39mmetric)\n\u001B[1;32m     19\u001B[0m     \u001B[38;5;28;01mif\u001B[39;00m scenarios \u001B[38;5;129;01mis\u001B[39;00m \u001B[38;5;28;01mNone\u001B[39;00m:\n\u001B[1;32m     20\u001B[0m         cols \u001B[38;5;241m=\u001B[39m \u001B[38;5;28mlist\u001B[39m(pivot\u001B[38;5;241m.\u001B[39mcolumns)\n",
      "\u001B[0;31mNameError\u001B[0m: name 'METRICS_DF' is not defined"
     ]
    }
   ],
   "execution_count": 12
  },
  {
   "metadata": {
    "ExecuteTime": {
     "end_time": "2025-10-23T06:47:08.374313Z",
     "start_time": "2025-10-23T06:47:08.357137Z"
    }
   },
   "cell_type": "code",
   "source": [
    "plot_timeseries(tag=\"base\",   station=STATIONS[0], case=1, save=True)\n",
    "if \"suisun\" in TAGS:\n",
    "    plot_timeseries(tag=\"suisun\", station=STATIONS[0], case=1, save=True)"
   ],
   "id": "49e7bd800300113b",
   "outputs": [
    {
     "ename": "NameError",
     "evalue": "name 'STATIONS' is not defined",
     "output_type": "error",
     "traceback": [
      "\u001B[0;31m---------------------------------------------------------------------------\u001B[0m",
      "\u001B[0;31mNameError\u001B[0m                                 Traceback (most recent call last)",
      "Cell \u001B[0;32mIn[13], line 1\u001B[0m\n\u001B[0;32m----> 1\u001B[0m plot_timeseries(tag\u001B[38;5;241m=\u001B[39m\u001B[38;5;124m\"\u001B[39m\u001B[38;5;124mbase\u001B[39m\u001B[38;5;124m\"\u001B[39m,   station\u001B[38;5;241m=\u001B[39m\u001B[43mSTATIONS\u001B[49m[\u001B[38;5;241m0\u001B[39m], case\u001B[38;5;241m=\u001B[39m\u001B[38;5;241m1\u001B[39m, save\u001B[38;5;241m=\u001B[39m\u001B[38;5;28;01mTrue\u001B[39;00m)\n\u001B[1;32m      2\u001B[0m \u001B[38;5;28;01mif\u001B[39;00m \u001B[38;5;124m\"\u001B[39m\u001B[38;5;124msuisun\u001B[39m\u001B[38;5;124m\"\u001B[39m \u001B[38;5;129;01min\u001B[39;00m TAGS:\n\u001B[1;32m      3\u001B[0m     plot_timeseries(tag\u001B[38;5;241m=\u001B[39m\u001B[38;5;124m\"\u001B[39m\u001B[38;5;124msuisun\u001B[39m\u001B[38;5;124m\"\u001B[39m, station\u001B[38;5;241m=\u001B[39mSTATIONS[\u001B[38;5;241m0\u001B[39m], case\u001B[38;5;241m=\u001B[39m\u001B[38;5;241m1\u001B[39m, save\u001B[38;5;241m=\u001B[39m\u001B[38;5;28;01mTrue\u001B[39;00m)\n",
      "\u001B[0;31mNameError\u001B[0m: name 'STATIONS' is not defined"
     ]
    }
   ],
   "execution_count": 13
  },
  {
   "metadata": {
    "ExecuteTime": {
     "end_time": "2025-10-23T06:47:08.678103Z",
     "start_time": "2025-10-23T06:47:08.663580Z"
    }
   },
   "cell_type": "code",
   "source": "plot_parity(tag=\"base\", station=STATIONS[0], sample=5000, save=True)",
   "id": "d4504d9b531ff820",
   "outputs": [
    {
     "ename": "NameError",
     "evalue": "name 'STATIONS' is not defined",
     "output_type": "error",
     "traceback": [
      "\u001B[0;31m---------------------------------------------------------------------------\u001B[0m",
      "\u001B[0;31mNameError\u001B[0m                                 Traceback (most recent call last)",
      "Cell \u001B[0;32mIn[14], line 1\u001B[0m\n\u001B[0;32m----> 1\u001B[0m plot_parity(tag\u001B[38;5;241m=\u001B[39m\u001B[38;5;124m\"\u001B[39m\u001B[38;5;124mbase\u001B[39m\u001B[38;5;124m\"\u001B[39m, station\u001B[38;5;241m=\u001B[39m\u001B[43mSTATIONS\u001B[49m[\u001B[38;5;241m0\u001B[39m], sample\u001B[38;5;241m=\u001B[39m\u001B[38;5;241m5000\u001B[39m, save\u001B[38;5;241m=\u001B[39m\u001B[38;5;28;01mTrue\u001B[39;00m)\n",
      "\u001B[0;31mNameError\u001B[0m: name 'STATIONS' is not defined"
     ]
    }
   ],
   "execution_count": 14
  },
  {
   "metadata": {},
   "cell_type": "code",
   "outputs": [],
   "execution_count": null,
   "source": "",
   "id": "dd8961eda1a594f"
  }
 ],
 "metadata": {
  "kernelspec": {
   "display_name": "Python 3",
   "language": "python",
   "name": "python3"
  },
  "language_info": {
   "codemirror_mode": {
    "name": "ipython",
    "version": 2
   },
   "file_extension": ".py",
   "mimetype": "text/x-python",
   "name": "python",
   "nbconvert_exporter": "python",
   "pygments_lexer": "ipython2",
   "version": "2.7.6"
  }
 },
 "nbformat": 4,
 "nbformat_minor": 5
}
